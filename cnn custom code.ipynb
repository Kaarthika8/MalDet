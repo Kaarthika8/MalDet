{
 "cells": [
  {
   "cell_type": "code",
   "execution_count": 1,
   "metadata": {
    "id": "Q8nrx5hPEbMc"
   },
   "outputs": [],
   "source": [
    "import os\n",
    "import numpy as np\n",
    "import torch\n",
    "import glob\n",
    "import torch.nn as nn\n",
    "from torchvision.transforms import transforms\n",
    "from torch.utils.data import DataLoader\n",
    "from sklearn.metrics import classification_report, precision_recall_fscore_support\n",
    "from torch.optim import Adam\n",
    "from torch.autograd import Variable\n",
    "import torchvision\n",
    "import pathlib"
   ]
  },
  {
   "cell_type": "code",
   "execution_count": 2,
   "metadata": {
    "id": "PWDurfREEmkk"
   },
   "outputs": [],
   "source": [
    "device=torch.device('cuda' if torch.cuda.is_available() else 'cpu')"
   ]
  },
  {
   "cell_type": "code",
   "execution_count": 3,
   "metadata": {
    "colab": {
     "base_uri": "https://localhost:8080/"
    },
    "id": "dz5GVaLFEqLq",
    "outputId": "af9f36c7-d801-436a-f254-df04a4cbd91f"
   },
   "outputs": [
    {
     "name": "stdout",
     "output_type": "stream",
     "text": [
      "cpu\n"
     ]
    }
   ],
   "source": [
    "print(device)"
   ]
  },
  {
   "cell_type": "code",
   "execution_count": 4,
   "metadata": {
    "id": "2L6nLGSnEzaE"
   },
   "outputs": [],
   "source": [
    "#Transforms\n",
    "transformer=transforms.Compose([\n",
    "    transforms.Resize((150,150)),\n",
    "    transforms.RandomHorizontalFlip(),\n",
    "    transforms.ToTensor(),  #0-255 to 0-1, numpy to tensors\n",
    "    transforms.Normalize([0.5,0.5,0.5], # 0-1 to [-1,1] , formula (x-mean)/std\n",
    "                        [0.5,0.5,0.5])\n",
    "])"
   ]
  },
  {
   "cell_type": "code",
   "execution_count": 5,
   "metadata": {
    "id": "sgJ-p93SE46-"
   },
   "outputs": [],
   "source": [
    "#Dataloader\n",
    "\n",
    "#Path for training and testing directory\n",
    "train_path=r\"C:\\Users\\aishu\\Downloads\\vidya\\cnn custom\\train\"\n",
    "test_path=r\"C:\\Users\\aishu\\Downloads\\vidya\\cnn custom\\val\"\n",
    "\n",
    "train_loader=DataLoader(\n",
    "    torchvision.datasets.ImageFolder(train_path,transform=transformer),\n",
    "    batch_size=64, shuffle=True\n",
    ")\n",
    "test_loader=DataLoader(\n",
    "    torchvision.datasets.ImageFolder(test_path,transform=transformer),\n",
    "    batch_size=64, shuffle=True\n",
    ")"
   ]
  },
  {
   "cell_type": "code",
   "execution_count": 7,
   "metadata": {
    "colab": {
     "base_uri": "https://localhost:8080/"
    },
    "id": "j7SAeO_EFXVc",
    "outputId": "fc7c04ce-78a9-494a-e712-fd5d716657cf"
   },
   "outputs": [
    {
     "name": "stdout",
     "output_type": "stream",
     "text": [
      "['Healthy_Image', 'Overnutrition_Image', 'Stunting_Image', 'Wasting_Image']\n"
     ]
    }
   ],
   "source": [
    "print(classes)"
   ]
  },
  {
   "cell_type": "code",
   "execution_count": 8,
   "metadata": {
    "id": "g2wn4C4IFqwb"
   },
   "outputs": [],
   "source": [
    "#CNN Network\n",
    "\n",
    "\n",
    "class ConvNet(nn.Module):\n",
    "    def __init__(self,num_classes=4):\n",
    "        super(ConvNet,self).__init__()\n",
    "\n",
    "        #Output size after convolution filter\n",
    "        #((w-f+2P)/s) +1\n",
    "\n",
    "        #Input shape= (256,3,150,150)\n",
    "\n",
    "        self.conv1=nn.Conv2d(in_channels=3,out_channels=12,kernel_size=3,stride=1,padding=1)\n",
    "        #Shape= (256,12,150,150)\n",
    "        self.bn1=nn.BatchNorm2d(num_features=12)\n",
    "        #Shape= (256,12,150,150)\n",
    "        self.relu1=nn.ReLU()\n",
    "        #Shape= (256,12,150,150)\n",
    "\n",
    "        self.pool=nn.MaxPool2d(kernel_size=2)\n",
    "        #Reduce the image size be factor 2\n",
    "        #Shape= (256,12,75,75)\n",
    "\n",
    "\n",
    "        self.conv2=nn.Conv2d(in_channels=12,out_channels=20,kernel_size=3,stride=1,padding=1)\n",
    "        #Shape= (256,20,75,75)\n",
    "        self.relu2=nn.ReLU()\n",
    "        #Shape= (256,20,75,75)\n",
    "        self.conv3=nn.Conv2d(in_channels=20,out_channels=32,kernel_size=3,stride=1,padding=1)\n",
    "        #Shape= (256,32,75,75)\n",
    "        self.bn3=nn.BatchNorm2d(num_features=32)\n",
    "        #Shape= (256,32,75,75)\n",
    "        self.relu3=nn.ReLU()\n",
    "        #Shape= (256,32,75,75)\n",
    "\n",
    "\n",
    "        self.fc=nn.Linear(in_features=75 * 75 * 32,out_features=num_classes)\n",
    "\n",
    "\n",
    "\n",
    "        #Feed forwad function\n",
    "\n",
    "    def forward(self,input):\n",
    "        output=self.conv1(input)\n",
    "        output=self.bn1(output)\n",
    "        output=self.relu1(output)\n",
    "\n",
    "        output=self.pool(output)\n",
    "\n",
    "        output=self.conv2(output)\n",
    "        output=self.relu2(output)\n",
    "\n",
    "        output=self.conv3(output)\n",
    "        output=self.bn3(output)\n",
    "        output=self.relu3(output)\n",
    "\n",
    "\n",
    "            #Above output will be in matrix form, with shape (256,32,75,75)\n",
    "\n",
    "        output=output.view(-1,32*75*75)\n",
    "\n",
    "\n",
    "        output=self.fc(output)\n",
    "\n",
    "        return output"
   ]
  },
  {
   "cell_type": "code",
   "execution_count": 9,
   "metadata": {
    "id": "NH688umkFwpi"
   },
   "outputs": [],
   "source": [
    "model=ConvNet(num_classes=4).to(device)"
   ]
  },
  {
   "cell_type": "code",
   "execution_count": 10,
   "metadata": {
    "id": "7SYdO0mHF6ZE"
   },
   "outputs": [],
   "source": [
    "#Optmizer and loss function\n",
    "optimizer=Adam(model.parameters(),lr=0.0001,weight_decay=0.0001)\n",
    "loss_function=nn.CrossEntropyLoss()"
   ]
  },
  {
   "cell_type": "code",
   "execution_count": 11,
   "metadata": {
    "id": "KiujYOkjF9P1"
   },
   "outputs": [],
   "source": [
    "num_epochs=60"
   ]
  },
  {
   "cell_type": "code",
   "execution_count": 12,
   "metadata": {
    "id": "FufhX-4YGE6v"
   },
   "outputs": [],
   "source": [
    "#calculating the size of training and testing images\n",
    "train_count=len(glob.glob(train_path+'/**/*.jpg'))\n",
    "test_count=len(glob.glob(test_path+'/**/*.jpg'))"
   ]
  },
  {
   "cell_type": "code",
   "execution_count": 13,
   "metadata": {
    "colab": {
     "base_uri": "https://localhost:8080/"
    },
    "id": "Q179qNBxGGUX",
    "outputId": "b37f73fd-9435-42d4-e94d-1c1f7aaa3f42"
   },
   "outputs": [
    {
     "name": "stdout",
     "output_type": "stream",
     "text": [
      "1995 501\n"
     ]
    }
   ],
   "source": [
    "print(train_count,test_count)"
   ]
  },
  {
   "cell_type": "code",
   "execution_count": 24,
   "metadata": {},
   "outputs": [
    {
     "name": "stdout",
     "output_type": "stream",
     "text": [
      "Epoch: 0 Train Loss: tensor(0.0316) Train Accuracy: 0.9969924812030075 Test Accuracy: 0.0 Precision: 0.9556962025316456 Recall: 0.9320987654320988\n",
      "Epoch: 0 Train Loss: tensor(0.0316) Train Accuracy: 0.9969924812030075 Test Accuracy: 0.6047904191616766\n",
      "Epoch: 1 Train Loss: tensor(0.0424) Train Accuracy: 0.9954887218045113 Test Accuracy: 0.0 Precision: 0.9495268138801262 Recall: 0.940625\n",
      "Epoch: 1 Train Loss: tensor(0.0424) Train Accuracy: 0.9954887218045113 Test Accuracy: 0.6007984031936128\n",
      "Epoch: 2 Train Loss: tensor(0.0434) Train Accuracy: 0.9949874686716792 Test Accuracy: 0.0 Precision: 0.964968152866242 Recall: 0.9044776119402985\n",
      "Epoch: 2 Train Loss: tensor(0.0434) Train Accuracy: 0.9949874686716792 Test Accuracy: 0.6087824351297405\n",
      "Epoch: 3 Train Loss: tensor(0.0460) Train Accuracy: 0.9944862155388471 Test Accuracy: 0.0 Precision: 0.9732824427480916 Recall: 0.9659090909090909\n",
      "Epoch: 3 Train Loss: tensor(0.0460) Train Accuracy: 0.9944862155388471 Test Accuracy: 0.5109780439121756\n",
      "Epoch: 4 Train Loss: tensor(0.0609) Train Accuracy: 0.98796992481203 Test Accuracy: 0.0 Precision: 0.9333333333333333 Recall: 0.975609756097561\n",
      "Epoch: 4 Train Loss: tensor(0.0609) Train Accuracy: 0.98796992481203 Test Accuracy: 0.5508982035928144\n",
      "Epoch: 5 Train Loss: tensor(0.0537) Train Accuracy: 0.9949874686716792 Test Accuracy: 0.0 Precision: 0.927797833935018 Recall: 0.9771863117870723\n",
      "Epoch: 5 Train Loss: tensor(0.0537) Train Accuracy: 0.9949874686716792 Test Accuracy: 0.499001996007984\n",
      "Epoch: 6 Train Loss: tensor(0.0741) Train Accuracy: 0.9894736842105263 Test Accuracy: 0.0 Precision: 0.953125 Recall: 0.941358024691358\n",
      "Epoch: 6 Train Loss: tensor(0.0741) Train Accuracy: 0.9894736842105263 Test Accuracy: 0.6067864271457086\n",
      "Epoch: 7 Train Loss: tensor(0.0638) Train Accuracy: 0.9894736842105263 Test Accuracy: 0.0 Precision: 0.9782608695652174 Recall: 0.9440559440559441\n",
      "Epoch: 7 Train Loss: tensor(0.0638) Train Accuracy: 0.9894736842105263 Test Accuracy: 0.5369261477045908\n",
      "Epoch: 8 Train Loss: tensor(0.0550) Train Accuracy: 0.9909774436090225 Test Accuracy: 0.0 Precision: 0.9184952978056427 Recall: 0.9512987012987013\n",
      "Epoch: 8 Train Loss: tensor(0.0550) Train Accuracy: 0.9909774436090225 Test Accuracy: 0.590818363273453\n",
      "Epoch: 9 Train Loss: tensor(0.0379) Train Accuracy: 0.9964912280701754 Test Accuracy: 0.0 Precision: 0.9790209790209791 Recall: 0.9271523178807947\n",
      "Epoch: 9 Train Loss: tensor(0.0379) Train Accuracy: 0.9964912280701754 Test Accuracy: 0.5788423153692615\n",
      "Epoch: 10 Train Loss: tensor(0.0683) Train Accuracy: 0.9919799498746867 Test Accuracy: 0.0 Precision: 0.9444444444444444 Recall: 0.9855072463768116\n",
      "Epoch: 10 Train Loss: tensor(0.0683) Train Accuracy: 0.9919799498746867 Test Accuracy: 0.5409181636726547\n",
      "Epoch: 11 Train Loss: tensor(0.0471) Train Accuracy: 0.9944862155388471 Test Accuracy: 0.0 Precision: 0.9803921568627451 Recall: 0.9090909090909091\n",
      "Epoch: 11 Train Loss: tensor(0.0471) Train Accuracy: 0.9944862155388471 Test Accuracy: 0.5888223552894212\n",
      "Epoch: 12 Train Loss: tensor(0.0412) Train Accuracy: 0.9954887218045113 Test Accuracy: 0.0 Precision: 0.972972972972973 Recall: 0.935064935064935\n",
      "Epoch: 12 Train Loss: tensor(0.0412) Train Accuracy: 0.9954887218045113 Test Accuracy: 0.5708582834331337\n",
      "Epoch: 13 Train Loss: tensor(0.0503) Train Accuracy: 0.9959899749373433 Test Accuracy: 0.0 Precision: 0.9727891156462585 Recall: 0.9501661129568106\n",
      "Epoch: 13 Train Loss: tensor(0.0503) Train Accuracy: 0.9959899749373433 Test Accuracy: 0.5728542914171657\n",
      "Epoch: 14 Train Loss: tensor(0.0596) Train Accuracy: 0.9959899749373433 Test Accuracy: 0.0 Precision: 0.9576547231270358 Recall: 0.9074074074074074\n",
      "Epoch: 14 Train Loss: tensor(0.0596) Train Accuracy: 0.9959899749373433 Test Accuracy: 0.5868263473053892\n",
      "Epoch: 15 Train Loss: tensor(0.0581) Train Accuracy: 0.9954887218045113 Test Accuracy: 0.0 Precision: 0.9832775919732442 Recall: 0.91875\n",
      "Epoch: 15 Train Loss: tensor(0.0581) Train Accuracy: 0.9954887218045113 Test Accuracy: 0.5868263473053892\n",
      "Epoch: 16 Train Loss: tensor(0.0402) Train Accuracy: 0.9959899749373433 Test Accuracy: 0.0 Precision: 0.9823943661971831 Recall: 0.9269102990033222\n",
      "Epoch: 16 Train Loss: tensor(0.0402) Train Accuracy: 0.9959899749373433 Test Accuracy: 0.564870259481038\n",
      "Epoch: 17 Train Loss: tensor(0.0528) Train Accuracy: 0.9944862155388471 Test Accuracy: 0.0 Precision: 0.9305993690851735 Recall: 0.9577922077922078\n",
      "Epoch: 17 Train Loss: tensor(0.0528) Train Accuracy: 0.9944862155388471 Test Accuracy: 0.590818363273453\n",
      "Epoch: 18 Train Loss: tensor(0.0884) Train Accuracy: 0.9854636591478697 Test Accuracy: 0.0 Precision: 0.9741100323624595 Recall: 0.9261538461538461\n",
      "Epoch: 18 Train Loss: tensor(0.0884) Train Accuracy: 0.9854636591478697 Test Accuracy: 0.6087824351297405\n",
      "Epoch: 19 Train Loss: tensor(0.0514) Train Accuracy: 0.9884711779448622 Test Accuracy: 0.0 Precision: 0.9726027397260274 Recall: 0.9372937293729373\n",
      "Epoch: 19 Train Loss: tensor(0.0514) Train Accuracy: 0.9884711779448622 Test Accuracy: 0.5489021956087824\n",
      "Epoch: 20 Train Loss: tensor(0.0632) Train Accuracy: 0.9909774436090225 Test Accuracy: 0.0 Precision: 0.9692832764505119 Recall: 0.9435215946843853\n",
      "Epoch: 20 Train Loss: tensor(0.0632) Train Accuracy: 0.9909774436090225 Test Accuracy: 0.5528942115768463\n",
      "Epoch: 21 Train Loss: tensor(0.0913) Train Accuracy: 0.9864661654135338 Test Accuracy: 0.0 Precision: 0.972972972972973 Recall: 0.9056603773584906\n",
      "Epoch: 21 Train Loss: tensor(0.0913) Train Accuracy: 0.9864661654135338 Test Accuracy: 0.5808383233532934\n",
      "Epoch: 22 Train Loss: tensor(0.0443) Train Accuracy: 0.9954887218045113 Test Accuracy: 0.0 Precision: 0.9419795221843004 Recall: 0.9324324324324325\n",
      "Epoch: 22 Train Loss: tensor(0.0443) Train Accuracy: 0.9954887218045113 Test Accuracy: 0.5588822355289421\n",
      "Epoch: 23 Train Loss: tensor(0.0541) Train Accuracy: 0.9969924812030075 Test Accuracy: 0.0 Precision: 0.953125 Recall: 0.9298780487804879\n",
      "Epoch: 23 Train Loss: tensor(0.0541) Train Accuracy: 0.9969924812030075 Test Accuracy: 0.6007984031936128\n",
      "Epoch: 24 Train Loss: tensor(0.0588) Train Accuracy: 0.9919799498746867 Test Accuracy: 0.0 Precision: 0.89937106918239 Recall: 0.9694915254237289\n",
      "Epoch: 24 Train Loss: tensor(0.0588) Train Accuracy: 0.9919799498746867 Test Accuracy: 0.5588822355289421\n",
      "Epoch: 25 Train Loss: tensor(0.0770) Train Accuracy: 0.98796992481203 Test Accuracy: 0.0 Precision: 0.9964285714285714 Recall: 0.8303571428571429\n",
      "Epoch: 25 Train Loss: tensor(0.0770) Train Accuracy: 0.98796992481203 Test Accuracy: 0.5528942115768463\n",
      "Epoch: 26 Train Loss: tensor(0.0789) Train Accuracy: 0.9854636591478697 Test Accuracy: 0.0 Precision: 0.9543726235741445 Recall: 0.98046875\n",
      "Epoch: 26 Train Loss: tensor(0.0789) Train Accuracy: 0.9854636591478697 Test Accuracy: 0.5029940119760479\n",
      "Epoch: 27 Train Loss: tensor(0.0560) Train Accuracy: 0.9884711779448622 Test Accuracy: 0.0 Precision: 0.978494623655914 Recall: 0.9646643109540636\n",
      "Epoch: 27 Train Loss: tensor(0.0560) Train Accuracy: 0.9884711779448622 Test Accuracy: 0.564870259481038\n",
      "Epoch: 28 Train Loss: tensor(0.0381) Train Accuracy: 0.9954887218045113 Test Accuracy: 0.0 Precision: 0.9759450171821306 Recall: 0.8987341772151899\n",
      "Epoch: 28 Train Loss: tensor(0.0381) Train Accuracy: 0.9954887218045113 Test Accuracy: 0.5688622754491018\n",
      "Epoch: 29 Train Loss: tensor(0.0742) Train Accuracy: 0.9859649122807017 Test Accuracy: 0.0 Precision: 0.9632352941176471 Recall: 0.9527272727272728\n",
      "Epoch: 29 Train Loss: tensor(0.0742) Train Accuracy: 0.9859649122807017 Test Accuracy: 0.5329341317365269\n",
      "Epoch: 30 Train Loss: tensor(0.0656) Train Accuracy: 0.9904761904761905 Test Accuracy: 0.0 Precision: 0.9715302491103203 Recall: 0.9446366782006921\n",
      "Epoch: 30 Train Loss: tensor(0.0656) Train Accuracy: 0.9904761904761905 Test Accuracy: 0.5449101796407185\n",
      "Epoch: 31 Train Loss: tensor(0.0420) Train Accuracy: 0.9944862155388471 Test Accuracy: 0.0 Precision: 0.9828767123287672 Recall: 0.940983606557377\n",
      "Epoch: 31 Train Loss: tensor(0.0420) Train Accuracy: 0.9944862155388471 Test Accuracy: 0.5728542914171657\n",
      "Epoch: 32 Train Loss: tensor(0.0389) Train Accuracy: 0.9954887218045113 Test Accuracy: 0.0 Precision: 0.9415584415584416 Recall: 0.9634551495016611\n",
      "Epoch: 32 Train Loss: tensor(0.0389) Train Accuracy: 0.9954887218045113 Test Accuracy: 0.5728542914171657\n",
      "Epoch: 33 Train Loss: tensor(0.0392) Train Accuracy: 0.9969924812030075 Test Accuracy: 0.0 Precision: 0.9639344262295082 Recall: 0.9274447949526814\n",
      "Epoch: 33 Train Loss: tensor(0.0392) Train Accuracy: 0.9969924812030075 Test Accuracy: 0.5968063872255489\n",
      "Epoch: 34 Train Loss: tensor(0.0529) Train Accuracy: 0.9964912280701754 Test Accuracy: 0.0 Precision: 0.9525316455696202 Recall: 0.940625\n",
      "Epoch: 34 Train Loss: tensor(0.0529) Train Accuracy: 0.9964912280701754 Test Accuracy: 0.6027944111776448\n",
      "Epoch: 35 Train Loss: tensor(0.0561) Train Accuracy: 0.9949874686716792 Test Accuracy: 0.0 Precision: 0.9639344262295082 Recall: 0.9274447949526814\n",
      "Epoch: 35 Train Loss: tensor(0.0561) Train Accuracy: 0.9949874686716792 Test Accuracy: 0.6027944111776448\n",
      "Epoch: 36 Train Loss: tensor(0.0340) Train Accuracy: 0.9974937343358395 Test Accuracy: 0.0 Precision: 0.9668874172185431 Recall: 0.9299363057324841\n",
      "Epoch: 36 Train Loss: tensor(0.0340) Train Accuracy: 0.9974937343358395 Test Accuracy: 0.5988023952095808\n",
      "Epoch: 37 Train Loss: tensor(0.0522) Train Accuracy: 0.9959899749373433 Test Accuracy: 0.0 Precision: 0.9683544303797469 Recall: 0.9473684210526315\n",
      "Epoch: 37 Train Loss: tensor(0.0522) Train Accuracy: 0.9959899749373433 Test Accuracy: 0.5988023952095808\n",
      "Epoch: 38 Train Loss: tensor(0.0390) Train Accuracy: 0.9969924812030075 Test Accuracy: 0.0 Precision: 0.9694915254237289 Recall: 0.9315960912052117\n",
      "Epoch: 38 Train Loss: tensor(0.0390) Train Accuracy: 0.9969924812030075 Test Accuracy: 0.5768463073852296\n",
      "Epoch: 39 Train Loss: tensor(0.0404) Train Accuracy: 0.9959899749373433 Test Accuracy: 0.0 Precision: 0.968421052631579 Recall: 0.9484536082474226\n",
      "Epoch: 39 Train Loss: tensor(0.0404) Train Accuracy: 0.9959899749373433 Test Accuracy: 0.5289421157684631\n",
      "Epoch: 40 Train Loss: tensor(0.0386) Train Accuracy: 0.9969924812030075 Test Accuracy: 0.0 Precision: 0.9605263157894737 Recall: 0.9419354838709677\n",
      "Epoch: 40 Train Loss: tensor(0.0386) Train Accuracy: 0.9969924812030075 Test Accuracy: 0.5748502994011976\n",
      "Epoch: 41 Train Loss: tensor(0.0618) Train Accuracy: 0.9944862155388471 Test Accuracy: 0.0 Precision: 0.9457364341085271 Recall: 0.9799196787148594\n",
      "Epoch: 41 Train Loss: tensor(0.0618) Train Accuracy: 0.9944862155388471 Test Accuracy: 0.4810379241516966\n",
      "Epoch: 42 Train Loss: tensor(0.0473) Train Accuracy: 0.993483709273183 Test Accuracy: 0.0 Precision: 0.95 Recall: 0.9240121580547113\n",
      "Epoch: 42 Train Loss: tensor(0.0473) Train Accuracy: 0.993483709273183 Test Accuracy: 0.6127744510978044\n",
      "Epoch: 43 Train Loss: tensor(0.0719) Train Accuracy: 0.9909774436090225 Test Accuracy: 0.0 Precision: 0.9712460063897763 Recall: 0.9212121212121213\n",
      "Epoch: 43 Train Loss: tensor(0.0719) Train Accuracy: 0.9909774436090225 Test Accuracy: 0.6007984031936128\n",
      "Epoch: 44 Train Loss: tensor(0.0475) Train Accuracy: 0.9949874686716792 Test Accuracy: 0.0 Precision: 0.9680511182108626 Recall: 0.926605504587156\n",
      "Epoch: 44 Train Loss: tensor(0.0475) Train Accuracy: 0.9949874686716792 Test Accuracy: 0.5848303393213573\n",
      "Epoch: 45 Train Loss: tensor(0.0498) Train Accuracy: 0.9949874686716792 Test Accuracy: 0.0 Precision: 0.975177304964539 Recall: 0.9615384615384616\n",
      "Epoch: 45 Train Loss: tensor(0.0498) Train Accuracy: 0.9949874686716792 Test Accuracy: 0.5508982035928144\n",
      "Epoch: 46 Train Loss: tensor(0.0343) Train Accuracy: 0.9969924812030075 Test Accuracy: 0.0 Precision: 0.967741935483871 Recall: 0.9375\n",
      "Epoch: 46 Train Loss: tensor(0.0343) Train Accuracy: 0.9969924812030075 Test Accuracy: 0.5748502994011976\n",
      "Epoch: 47 Train Loss: tensor(0.0470) Train Accuracy: 0.9959899749373433 Test Accuracy: 0.0 Precision: 0.9339622641509434 Recall: 0.9488817891373802\n",
      "Epoch: 47 Train Loss: tensor(0.0470) Train Accuracy: 0.9959899749373433 Test Accuracy: 0.5988023952095808\n",
      "Epoch: 48 Train Loss: tensor(0.0478) Train Accuracy: 0.9964912280701754 Test Accuracy: 0.0 Precision: 0.9543973941368078 Recall: 0.9451612903225807\n",
      "Epoch: 48 Train Loss: tensor(0.0478) Train Accuracy: 0.9964912280701754 Test Accuracy: 0.5828343313373253\n",
      "Epoch: 49 Train Loss: tensor(0.0674) Train Accuracy: 0.993483709273183 Test Accuracy: 0.0 Precision: 0.9585987261146497 Recall: 0.940625\n",
      "Epoch: 49 Train Loss: tensor(0.0674) Train Accuracy: 0.993483709273183 Test Accuracy: 0.6027944111776448\n",
      "Epoch: 50 Train Loss: tensor(0.1377) Train Accuracy: 0.9759398496240601 Test Accuracy: 0.0 Precision: 0.9614035087719298 Recall: 0.9415807560137457\n",
      "Epoch: 50 Train Loss: tensor(0.1377) Train Accuracy: 0.9759398496240601 Test Accuracy: 0.5409181636726547\n",
      "Epoch: 51 Train Loss: tensor(0.0472) Train Accuracy: 0.9914786967418546 Test Accuracy: 0.0 Precision: 0.9702970297029703 Recall: 0.9158878504672897\n",
      "Epoch: 51 Train Loss: tensor(0.0472) Train Accuracy: 0.9914786967418546 Test Accuracy: 0.5708582834331337\n",
      "Epoch: 52 Train Loss: tensor(0.0650) Train Accuracy: 0.9954887218045113 Test Accuracy: 0.0 Precision: 0.9529780564263323 Recall: 0.9470404984423676\n",
      "Epoch: 52 Train Loss: tensor(0.0650) Train Accuracy: 0.9954887218045113 Test Accuracy: 0.6047904191616766\n",
      "Epoch: 53 Train Loss: tensor(0.0759) Train Accuracy: 0.9954887218045113 Test Accuracy: 0.0 Precision: 0.9523809523809523 Recall: 0.9230769230769231\n",
      "Epoch: 53 Train Loss: tensor(0.0759) Train Accuracy: 0.9954887218045113 Test Accuracy: 0.5888223552894212\n",
      "Epoch: 54 Train Loss: tensor(0.0561) Train Accuracy: 0.9959899749373433 Test Accuracy: 0.0 Precision: 0.939297124600639 Recall: 0.9423076923076923\n",
      "Epoch: 54 Train Loss: tensor(0.0561) Train Accuracy: 0.9959899749373433 Test Accuracy: 0.5988023952095808\n",
      "Epoch: 55 Train Loss: tensor(0.0271) Train Accuracy: 0.9964912280701754 Test Accuracy: 0.0 Precision: 0.9525423728813559 Recall: 0.9689655172413794\n",
      "Epoch: 55 Train Loss: tensor(0.0271) Train Accuracy: 0.9964912280701754 Test Accuracy: 0.562874251497006\n",
      "Epoch: 56 Train Loss: tensor(0.0555) Train Accuracy: 0.9959899749373433 Test Accuracy: 0.0 Precision: 0.9814814814814815 Recall: 0.9498207885304659\n",
      "Epoch: 56 Train Loss: tensor(0.0555) Train Accuracy: 0.9959899749373433 Test Accuracy: 0.5329341317365269\n",
      "Epoch: 57 Train Loss: tensor(0.0375) Train Accuracy: 0.9959899749373433 Test Accuracy: 0.0 Precision: 0.9781021897810219 Recall: 0.9273356401384083\n",
      "Epoch: 57 Train Loss: tensor(0.0375) Train Accuracy: 0.9959899749373433 Test Accuracy: 0.5369261477045908\n",
      "Epoch: 58 Train Loss: tensor(0.0529) Train Accuracy: 0.9959899749373433 Test Accuracy: 0.0 Precision: 0.956953642384106 Recall: 0.9444444444444444\n",
      "Epoch: 58 Train Loss: tensor(0.0529) Train Accuracy: 0.9959899749373433 Test Accuracy: 0.5868263473053892\n",
      "Epoch: 59 Train Loss: tensor(0.0616) Train Accuracy: 0.9944862155388471 Test Accuracy: 0.0 Precision: 0.964516129032258 Recall: 0.9285714285714286\n",
      "Epoch: 59 Train Loss: tensor(0.0616) Train Accuracy: 0.9944862155388471 Test Accuracy: 0.6067864271457086\n"
     ]
    }
   ],
   "source": [
    "def calculate_precision_recall(model, test_loader, loss_function):\n",
    "    \"\"\"Calculates precision, recall, true labels, and predicted labels for the given model and data loader.\n",
    "\n",
    "    Args:\n",
    "        model: The PyTorch model to evaluate.\n",
    "        test_loader: The data loader for the test dataset.\n",
    "        loss_function: The loss function used for training.\n",
    "\n",
    "    Returns:\n",
    "        precision: The precision, calculated as the ratio of true positives to all predicted positives.\n",
    "        recall: The recall, calculated as the ratio of true positives to all actual positives.\n",
    "        true_labels: True labels from the test dataset.\n",
    "        predicted_labels: Predicted labels from the model.\n",
    "    \"\"\"\n",
    "\n",
    "    model.eval()  # Set the model to evaluation mode\n",
    "\n",
    "    true_positives = 0\n",
    "    false_positives = 0\n",
    "    false_negatives = 0\n",
    "    true_labels = []\n",
    "    predicted_labels = []\n",
    "\n",
    "    with torch.no_grad():\n",
    "        for images, labels in test_loader:\n",
    "            images, labels = images.to(device), labels.to(device)\n",
    "\n",
    "            outputs = model(images)\n",
    "            loss = loss_function(outputs, labels)\n",
    "\n",
    "            _, predicted = torch.max(outputs, 1)\n",
    "\n",
    "            true_positives += (predicted == labels).sum().item()\n",
    "            false_positives += ((predicted == 1) & (labels == 0)).sum().item()\n",
    "            false_negatives += ((predicted == 0) & (labels == 1)).sum().item()\n",
    "\n",
    "            true_labels.extend(labels.cpu().numpy())\n",
    "            predicted_labels.extend(predicted.cpu().numpy())\n",
    "\n",
    "    precision = true_positives / (true_positives + false_positives)\n",
    "    recall = true_positives / (true_positives + false_negatives)\n",
    "\n",
    "    return precision, recall, true_labels, predicted_labels\n",
    "best_accuracy = 0.0\n",
    "for epoch in range(num_epochs):\n",
    "    \n",
    "   \n",
    "    #Evaluation and training on training dataset\n",
    "    model.train()\n",
    "    train_accuracy=0.0\n",
    "    train_loss=0.0\n",
    "\n",
    "    for i, (images,labels) in enumerate(train_loader):\n",
    "        if torch.cuda.is_available():\n",
    "            images=Variable(images.cuda())\n",
    "            labels=Variable(labels.cuda())\n",
    "\n",
    "        optimizer.zero_grad()\n",
    "\n",
    "        outputs=model(images)\n",
    "        loss=loss_function(outputs,labels)\n",
    "        loss.backward()\n",
    "        optimizer.step()\n",
    "\n",
    "\n",
    "        train_loss+= loss.cpu().data*images.size(0)\n",
    "        _,prediction=torch.max(outputs.data,1)\n",
    "\n",
    "        train_accuracy+=int(torch.sum(prediction==labels.data))\n",
    "\n",
    "    train_accuracy=train_accuracy/train_count\n",
    "    train_loss=train_loss/train_count\n",
    "\n",
    "     # Evaluation on testing dataset\n",
    "    model.eval()\n",
    "\n",
    "    test_accuracy=0.0\n",
    "    precision, recall, _, _ = calculate_precision_recall(model, test_loader, loss_function)\n",
    "\n",
    "    print('Epoch: ' + str(epoch) + ' Train Loss: ' + str(train_loss) +\n",
    "          ' Train Accuracy: ' + str(train_accuracy) +\n",
    "          ' Test Accuracy: ' + str(test_accuracy) +\n",
    "          ' Precision: ' + str(precision) +\n",
    "          ' Recall: ' + str(recall))\n",
    "    for i, (images,labels) in enumerate(test_loader):\n",
    "        if torch.cuda.is_available():\n",
    "            images=Variable(images.cuda())\n",
    "            labels=Variable(labels.cuda())\n",
    "\n",
    "        outputs=model(images)\n",
    "        _,prediction=torch.max(outputs.data,1)\n",
    "        test_accuracy+=int(torch.sum(prediction==labels.data))\n",
    "\n",
    "    test_accuracy=test_accuracy/test_count\n",
    "\n",
    "\n",
    "    print('Epoch: '+str(epoch)+' Train Loss: '+str(train_loss)+' Train Accuracy: '+str(train_accuracy)+' Test Accuracy: '+str(test_accuracy))\n",
    "\n",
    "    #Save the best model\n",
    "    if test_accuracy>best_accuracy:\n",
    "        torch.save(model.state_dict(),'best_checkpoint.model')\n",
    "        best_accuracy=test_accuracy  "
   ]
  },
  {
   "cell_type": "code",
   "execution_count": 63,
   "metadata": {},
   "outputs": [],
   "source": [
    "def train(model, train_loader, optimizer, loss_function):\n",
    "    model.train()  # Set the model to training mode\n",
    "    train_loss = 0.0\n",
    "    train_accuracy = 0.0\n",
    "    total_samples = 0\n",
    "\n",
    "    for images, labels in train_loader:\n",
    "        if torch.cuda.is_available():\n",
    "            images = images.cuda()\n",
    "            labels = labels.cuda()\n",
    "\n",
    "        optimizer.zero_grad()\n",
    "        outputs = model(images)\n",
    "        loss = loss_function(outputs, labels)\n",
    "        loss.backward()\n",
    "        optimizer.step()\n",
    "\n",
    "        train_loss += loss.item() * images.size(0)\n",
    "        _, predictions = torch.max(outputs.data, 1)\n",
    "        train_accuracy += (predictions == labels).sum().item()\n",
    "        total_samples += labels.size(0)\n",
    "\n",
    "    train_loss /= total_samples\n",
    "    train_accuracy = (train_accuracy / total_samples) * 100\n",
    "\n",
    "    return train_loss, train_accuracy"
   ]
  },
  {
   "cell_type": "code",
   "execution_count": 64,
   "metadata": {},
   "outputs": [],
   "source": [
    "def validate(model, val_loader, loss_function):\n",
    "    model.eval()  # Set the model to evaluation mode\n",
    "    val_loss = 0.0\n",
    "    val_accuracy = 0.0\n",
    "    total_samples = 0\n",
    "\n",
    "    with torch.no_grad():  # Disable gradient calculation for efficiency\n",
    "        for images, labels in val_loader:\n",
    "            if torch.cuda.is_available():\n",
    "                images = images.cuda()\n",
    "                labels = labels.cuda()\n",
    "\n",
    "            outputs = model(images)\n",
    "            loss = loss_function(outputs, labels)\n",
    "\n",
    "            val_loss += loss.item() * images.size(0)\n",
    "            _, predictions = torch.max(outputs.data, 1)\n",
    "            val_accuracy += (predictions == labels).sum().item()\n",
    "            total_samples += labels.size(0)\n",
    "\n",
    "    val_loss /= total_samples\n",
    "    val_accuracy = (val_accuracy / total_samples) * 100\n",
    "\n",
    "    return val_loss, val_accuracy"
   ]
  },
  {
   "cell_type": "code",
   "execution_count": 31,
   "metadata": {},
   "outputs": [
    {
     "name": "stdout",
     "output_type": "stream",
     "text": [
      "              precision    recall  f1-score   support\n",
      "\n",
      "           0       0.63      0.92      0.75        13\n",
      "           1       0.83      0.45      0.59        11\n",
      "           2       0.54      0.78      0.64         9\n",
      "           3       0.93      0.70      0.80        20\n",
      "\n",
      "    accuracy                           0.72        53\n",
      "   macro avg       0.73      0.71      0.69        53\n",
      "weighted avg       0.77      0.72      0.72        53\n",
      "\n"
     ]
    }
   ],
   "source": [
    "from sklearn.metrics import classification_report\n",
    "\n",
    "# Inside calculate_precision_recall function after calculating precision and recall:\n",
    "true_labels = labels.cpu().numpy()  # Convert labels to numpy array\n",
    "predicted_labels = prediction.cpu().numpy()  # Convert predictions to numpy array\n",
    "report = classification_report(true_labels, predicted_labels)\n",
    "print(report)"
   ]
  },
  {
   "cell_type": "code",
   "execution_count": 23,
   "metadata": {},
   "outputs": [
    {
     "data": {
      "image/png": "[encoded data removed]",
      "text/plain": [
       "<Figure size 1000x800 with 2 Axes>"
      ]
     },
     "metadata": {},
     "output_type": "display_data"
    }
   ],
   "source": [
    "import matplotlib.pyplot as plt\n",
    "import numpy as np\n",
    "import itertools\n",
    "from sklearn.metrics import confusion_matrix\n",
    "\n",
    "def plot_confusion_matrix(model, test_loader, classes):\n",
    "    \"\"\"Plots the confusion matrix for the given model and test data loader.\n",
    "\n",
    "    Args:\n",
    "        model: The PyTorch model to evaluate.\n",
    "        test_loader: The data loader for the test dataset.\n",
    "        classes: A list of class names.\n",
    "    \"\"\"\n",
    "    model.eval()  # Set the model to evaluation mode\n",
    "\n",
    "    y_true = []\n",
    "    y_pred = []\n",
    "\n",
    "    with torch.no_grad():  # Disable gradient calculation for efficiency\n",
    "        for images, labels in test_loader:\n",
    "            if torch.cuda.is_available():\n",
    "                images = images.cuda()\n",
    "                labels = labels.cuda()\n",
    "\n",
    "            outputs = model(images)\n",
    "            _, predictions = torch.max(outputs.data, 1)\n",
    "\n",
    "            y_true.extend(labels.cpu().numpy())\n",
    "            y_pred.extend(predictions.cpu().numpy())\n",
    "\n",
    "    # Create the confusion matrix\n",
    "    cm = confusion_matrix(y_true, y_pred)\n",
    "\n",
    "    # Plot the confusion matrix\n",
    "    plt.figure(figsize=(10, 8))\n",
    "    plt.imshow(cm, interpolation='nearest', cmap=plt.cm.Blues)\n",
    "    plt.title('Confusion Matrix')\n",
    "    plt.colorbar()\n",
    "    tick_marks = np.arange(len(classes))\n",
    "    plt.xticks(tick_marks, classes, rotation=45)\n",
    "    plt.yticks(tick_marks, classes)\n",
    "\n",
    "    fmt = 'd'\n",
    "    thresh = cm.max() / 2.\n",
    "    for i, j in itertools.product(range(cm.shape[0]), range(cm.shape[1])):\n",
    "        plt.text(j, i, format(cm[i, j], fmt),\n",
    "                 horizontalalignment=\"center\",\n",
    "                 color=\"white\" if cm[i, j] > thresh else \"black\")\n",
    "\n",
    "    plt.tight_layout()\n",
    "    plt.ylabel('True label')\n",
    "    plt.xlabel('Predicted label')\n",
    "    plt.show()\n",
    "plot_confusion_matrix(model, test_loader, classes)"
   ]
  },
  {
   "cell_type": "code",
   "execution_count": 27,
   "metadata": {},
   "outputs": [],
   "source": [
    "import matplotlib.pyplot as plt\n",
    "\n",
    "def plot_training_validation(train_losses, val_losses, train_accuracies, val_accuracies):\n",
    "    \"\"\"Plots the training and validation losses and accuracies.\n",
    "\n",
    "    Args:\n",
    "        train_losses: A list of training losses for each epoch.\n",
    "        val_losses: A list of validation losses for each epoch.\n",
    "        train_accuracies: A list of training accuracies for each epoch.\n",
    "        val_accuracies: A list of validation accuracies for each epoch.\n",
    "    \"\"\"\n",
    "    epochs = range(1, len(train_losses) + 1)\n",
    "\n",
    "    # Plot the losses\n",
    "    plt.figure(figsize=(12, 6))\n",
    "    plt.subplot(1, 2, 1)\n",
    "    plt.plot(epochs, train_losses, 'r', label='Training Loss')\n",
    "    plt.plot(epochs, val_losses, 'b', label='Validation Loss')\n",
    "    plt.title('Training and Validation Losses')\n",
    "    plt.xlabel('Epochs')\n",
    "    plt.ylabel('Loss')\n",
    "    plt.legend()\n",
    "\n",
    "    # Plot the accuracies\n",
    "    plt.subplot(1, 2, 2)\n",
    "    plt.plot(epochs, train_accuracies, 'r', label='Training Accuracy')\n",
    "    plt.plot(epochs, val_accuracies, 'b', label='Validation Accuracy')\n",
    "    plt.title('Training and Validation Accuracies')\n",
    "    plt.xlabel('Epochs')\n",
    "    plt.ylabel('Accuracy')\n",
    "    plt.legend()\n",
    "\n",
    "    plt.tight_layout()\n",
    "    plt.show()"
   ]
  }
 ],
 "metadata": {
  "colab": {
   "provenance": []
  },
  "kernelspec": {
   "display_name": "Python 3 (ipykernel)",
   "language": "python",
   "name": "python3"
  },
  "language_info": {
   "codemirror_mode": {
    "name": "ipython",
    "version": 3
   },
   "file_extension": ".py",
   "mimetype": "text/x-python",
   "name": "python",
   "nbconvert_exporter": "python",
   "pygments_lexer": "ipython3",
   "version": "3.12.2"
  }
 },
 "nbformat": 4,
 "nbformat_minor": 4
}
